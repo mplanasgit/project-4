{
 "cells": [
  {
   "cell_type": "markdown",
   "id": "b986d8dd",
   "metadata": {},
   "source": [
    "**Ironhack Project-4 |** Requesting information from the local API\n",
    "\n",
    "---"
   ]
  },
  {
   "cell_type": "markdown",
   "id": "f721f93d",
   "metadata": {},
   "source": [
    "**Libraries**"
   ]
  },
  {
   "cell_type": "code",
   "execution_count": 1,
   "id": "ddfaebea",
   "metadata": {},
   "outputs": [],
   "source": [
    "# Data\n",
    "import numpy as np\n",
    "import pandas as pd\n",
    "\n",
    "# Requests\n",
    "import requests\n",
    "import json\n",
    "from pandas import json_normalize\n",
    "import main_queries as qry\n",
    "\n",
    "# Visualization\n",
    "import seaborn as sns\n",
    "import matplotlib.pyplot as plt\n",
    "%matplotlib inline\n",
    "%config Inlinebackend.figure_format = 'retina'\n",
    "sns.set_context(\"poster\")\n",
    "sns.set(rc={\"figure.figsize\": (8,4)})\n",
    "sns.set_style(\"whitegrid\")"
   ]
  },
  {
   "cell_type": "markdown",
   "id": "d6b22651",
   "metadata": {},
   "source": [
    "---"
   ]
  },
  {
   "cell_type": "markdown",
   "id": "8fd599f1",
   "metadata": {},
   "source": [
    "# Requests"
   ]
  },
  {
   "cell_type": "markdown",
   "id": "0dbfea77",
   "metadata": {},
   "source": [
    "Checking that the API returns the script of the specified character:"
   ]
  },
  {
   "cell_type": "code",
   "execution_count": 2,
   "id": "b0f611d3",
   "metadata": {},
   "outputs": [
    {
     "data": {
      "text/html": [
       "<div>\n",
       "<style scoped>\n",
       "    .dataframe tbody tr th:only-of-type {\n",
       "        vertical-align: middle;\n",
       "    }\n",
       "\n",
       "    .dataframe tbody tr th {\n",
       "        vertical-align: top;\n",
       "    }\n",
       "\n",
       "    .dataframe thead th {\n",
       "        text-align: right;\n",
       "    }\n",
       "</style>\n",
       "<table border=\"1\" class=\"dataframe\">\n",
       "  <thead>\n",
       "    <tr style=\"text-align: right;\">\n",
       "      <th></th>\n",
       "      <th>Episode</th>\n",
       "      <th>Episode Title</th>\n",
       "      <th>ID</th>\n",
       "      <th>Name</th>\n",
       "      <th>Season</th>\n",
       "      <th>Sentence</th>\n",
       "    </tr>\n",
       "  </thead>\n",
       "  <tbody>\n",
       "    <tr>\n",
       "      <th>0</th>\n",
       "      <td>Episode 1</td>\n",
       "      <td>Winter is Coming</td>\n",
       "      <td>15</td>\n",
       "      <td>Jon Snow</td>\n",
       "      <td>Season 1</td>\n",
       "      <td>Go on. Father's watching.</td>\n",
       "    </tr>\n",
       "    <tr>\n",
       "      <th>1</th>\n",
       "      <td>Episode 1</td>\n",
       "      <td>Winter is Coming</td>\n",
       "      <td>16</td>\n",
       "      <td>Jon Snow</td>\n",
       "      <td>Season 1</td>\n",
       "      <td>And your mother.</td>\n",
       "    </tr>\n",
       "    <tr>\n",
       "      <th>2</th>\n",
       "      <td>Episode 1</td>\n",
       "      <td>Winter is Coming</td>\n",
       "      <td>21</td>\n",
       "      <td>Jon Snow</td>\n",
       "      <td>Season 1</td>\n",
       "      <td>Don't think too much, Bran.</td>\n",
       "    </tr>\n",
       "    <tr>\n",
       "      <th>3</th>\n",
       "      <td>Episode 1</td>\n",
       "      <td>Winter is Coming</td>\n",
       "      <td>38</td>\n",
       "      <td>Jon Snow</td>\n",
       "      <td>Season 1</td>\n",
       "      <td>Don't look away.</td>\n",
       "    </tr>\n",
       "    <tr>\n",
       "      <th>4</th>\n",
       "      <td>Episode 1</td>\n",
       "      <td>Winter is Coming</td>\n",
       "      <td>40</td>\n",
       "      <td>Jon Snow</td>\n",
       "      <td>Season 1</td>\n",
       "      <td>Father will know if you do.</td>\n",
       "    </tr>\n",
       "  </tbody>\n",
       "</table>\n",
       "</div>"
      ],
      "text/plain": [
       "     Episode     Episode Title  ID      Name    Season  \\\n",
       "0  Episode 1  Winter is Coming  15  Jon Snow  Season 1   \n",
       "1  Episode 1  Winter is Coming  16  Jon Snow  Season 1   \n",
       "2  Episode 1  Winter is Coming  21  Jon Snow  Season 1   \n",
       "3  Episode 1  Winter is Coming  38  Jon Snow  Season 1   \n",
       "4  Episode 1  Winter is Coming  40  Jon Snow  Season 1   \n",
       "\n",
       "                      Sentence  \n",
       "0    Go on. Father's watching.  \n",
       "1             And your mother.  \n",
       "2  Don't think too much, Bran.  \n",
       "3             Don't look away.  \n",
       "4  Father will know if you do.  "
      ]
     },
     "execution_count": 2,
     "metadata": {},
     "output_type": "execute_result"
    }
   ],
   "source": [
    "jon_snow_1x01 = qry.get_my_character(season = \"season 1\", episode = \"episode 1\", character = \"jon snow\")\n",
    "jon_snow_1x01.head()"
   ]
  },
  {
   "cell_type": "code",
   "execution_count": 5,
   "id": "a08c06ef",
   "metadata": {},
   "outputs": [
    {
     "data": {
      "text/plain": [
       "'Oops! There was an error in your request. Check our docs for the supported season, episode, and character names.'"
      ]
     },
     "execution_count": 5,
     "metadata": {},
     "output_type": "execute_result"
    }
   ],
   "source": [
    "jon_snow_1x01 = qry.get_my_character(season = \"season 1\", episode = \"episode 1\", character = \"jon snowe\")\n",
    "jon_snow_1x01"
   ]
  },
  {
   "cell_type": "code",
   "execution_count": null,
   "id": "6befb05d",
   "metadata": {},
   "outputs": [],
   "source": []
  }
 ],
 "metadata": {
  "kernelspec": {
   "display_name": "Python 3 (ipykernel)",
   "language": "python",
   "name": "python3"
  },
  "language_info": {
   "codemirror_mode": {
    "name": "ipython",
    "version": 3
   },
   "file_extension": ".py",
   "mimetype": "text/x-python",
   "name": "python",
   "nbconvert_exporter": "python",
   "pygments_lexer": "ipython3",
   "version": "3.9.13"
  },
  "toc": {
   "base_numbering": 1,
   "nav_menu": {},
   "number_sections": true,
   "sideBar": true,
   "skip_h1_title": false,
   "title_cell": "Table of Contents",
   "title_sidebar": "Contents",
   "toc_cell": false,
   "toc_position": {},
   "toc_section_display": true,
   "toc_window_display": false
  }
 },
 "nbformat": 4,
 "nbformat_minor": 5
}
