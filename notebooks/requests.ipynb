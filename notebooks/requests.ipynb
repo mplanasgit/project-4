{
 "cells": [
  {
   "cell_type": "markdown",
   "id": "422c5679",
   "metadata": {},
   "source": [
    "**Ironhack Project-4 |** Requesting information from the local API\n",
    "\n",
    "---"
   ]
  },
  {
   "cell_type": "markdown",
   "id": "fc1a0c7d",
   "metadata": {},
   "source": [
    "**Libraries**"
   ]
  },
  {
   "cell_type": "code",
   "execution_count": 1,
   "id": "48a06ab1",
   "metadata": {},
   "outputs": [],
   "source": [
    "# Data\n",
    "import numpy as np\n",
    "import pandas as pd\n",
    "\n",
    "# Requests\n",
    "import requests\n",
    "import json\n",
    "from pandas import json_normalize\n",
    "import main_queries as qry\n",
    "\n",
    "# Visualization\n",
    "import seaborn as sns\n",
    "import matplotlib.pyplot as plt\n",
    "%matplotlib inline\n",
    "%config Inlinebackend.figure_format = 'retina'\n",
    "sns.set_context(\"poster\")\n",
    "sns.set(rc={\"figure.figsize\": (8,4)})\n",
    "sns.set_style(\"whitegrid\")"
   ]
  },
  {
   "cell_type": "markdown",
   "id": "0e52ea30",
   "metadata": {},
   "source": [
    "---"
   ]
  },
  {
   "cell_type": "markdown",
   "id": "07786515",
   "metadata": {},
   "source": [
    "# Requests | GET"
   ]
  },
  {
   "cell_type": "markdown",
   "id": "9054e93d",
   "metadata": {},
   "source": [
    "Checking that the API returns the script of the specified character:"
   ]
  },
  {
   "cell_type": "code",
   "execution_count": 2,
   "id": "46a4e42f",
   "metadata": {},
   "outputs": [
    {
     "data": {
      "text/html": [
       "<div>\n",
       "<style scoped>\n",
       "    .dataframe tbody tr th:only-of-type {\n",
       "        vertical-align: middle;\n",
       "    }\n",
       "\n",
       "    .dataframe tbody tr th {\n",
       "        vertical-align: top;\n",
       "    }\n",
       "\n",
       "    .dataframe thead th {\n",
       "        text-align: right;\n",
       "    }\n",
       "</style>\n",
       "<table border=\"1\" class=\"dataframe\">\n",
       "  <thead>\n",
       "    <tr style=\"text-align: right;\">\n",
       "      <th></th>\n",
       "      <th>Episode</th>\n",
       "      <th>Episode Title</th>\n",
       "      <th>ID</th>\n",
       "      <th>Name</th>\n",
       "      <th>Season</th>\n",
       "      <th>Sentence</th>\n",
       "    </tr>\n",
       "  </thead>\n",
       "  <tbody>\n",
       "    <tr>\n",
       "      <th>0</th>\n",
       "      <td>Episode 1</td>\n",
       "      <td>Winter is Coming</td>\n",
       "      <td>15</td>\n",
       "      <td>Jon Snow</td>\n",
       "      <td>Season 1</td>\n",
       "      <td>Go on. Father's watching.</td>\n",
       "    </tr>\n",
       "    <tr>\n",
       "      <th>1</th>\n",
       "      <td>Episode 1</td>\n",
       "      <td>Winter is Coming</td>\n",
       "      <td>16</td>\n",
       "      <td>Jon Snow</td>\n",
       "      <td>Season 1</td>\n",
       "      <td>And your mother.</td>\n",
       "    </tr>\n",
       "    <tr>\n",
       "      <th>2</th>\n",
       "      <td>Episode 1</td>\n",
       "      <td>Winter is Coming</td>\n",
       "      <td>21</td>\n",
       "      <td>Jon Snow</td>\n",
       "      <td>Season 1</td>\n",
       "      <td>Don't think too much, Bran.</td>\n",
       "    </tr>\n",
       "    <tr>\n",
       "      <th>3</th>\n",
       "      <td>Episode 1</td>\n",
       "      <td>Winter is Coming</td>\n",
       "      <td>38</td>\n",
       "      <td>Jon Snow</td>\n",
       "      <td>Season 1</td>\n",
       "      <td>Don't look away.</td>\n",
       "    </tr>\n",
       "    <tr>\n",
       "      <th>4</th>\n",
       "      <td>Episode 1</td>\n",
       "      <td>Winter is Coming</td>\n",
       "      <td>40</td>\n",
       "      <td>Jon Snow</td>\n",
       "      <td>Season 1</td>\n",
       "      <td>Father will know if you do.</td>\n",
       "    </tr>\n",
       "  </tbody>\n",
       "</table>\n",
       "</div>"
      ],
      "text/plain": [
       "     Episode     Episode Title  ID      Name    Season  \\\n",
       "0  Episode 1  Winter is Coming  15  Jon Snow  Season 1   \n",
       "1  Episode 1  Winter is Coming  16  Jon Snow  Season 1   \n",
       "2  Episode 1  Winter is Coming  21  Jon Snow  Season 1   \n",
       "3  Episode 1  Winter is Coming  38  Jon Snow  Season 1   \n",
       "4  Episode 1  Winter is Coming  40  Jon Snow  Season 1   \n",
       "\n",
       "                      Sentence  \n",
       "0    Go on. Father's watching.  \n",
       "1             And your mother.  \n",
       "2  Don't think too much, Bran.  \n",
       "3             Don't look away.  \n",
       "4  Father will know if you do.  "
      ]
     },
     "execution_count": 2,
     "metadata": {},
     "output_type": "execute_result"
    }
   ],
   "source": [
    "jon_snow_1x01 = qry.get_my_character(season = \"season 1\", episode = \"episode 1\", name = \"jon snow\")\n",
    "jon_snow_1x01.head()"
   ]
  },
  {
   "cell_type": "markdown",
   "id": "ece602e4",
   "metadata": {},
   "source": [
    "Checking what the API returns if bad request:"
   ]
  },
  {
   "cell_type": "code",
   "execution_count": 3,
   "id": "37204f6e",
   "metadata": {},
   "outputs": [
    {
     "data": {
      "text/plain": [
       "'Oops! There was an error in your request. Check our docs for the supported season, episode, and character names.'"
      ]
     },
     "execution_count": 3,
     "metadata": {},
     "output_type": "execute_result"
    }
   ],
   "source": [
    "jon_snow_1x01_fail = qry.get_my_character(season = \"season 1\", episode = \"episode 1\", name = \"jon snowe\") #invalid name\n",
    "jon_snow_1x01_fail"
   ]
  },
  {
   "cell_type": "markdown",
   "id": "becc7351",
   "metadata": {},
   "source": [
    "**Getting sentiment analysis**"
   ]
  },
  {
   "cell_type": "code",
   "execution_count": 4,
   "id": "b29ba4c8",
   "metadata": {},
   "outputs": [
    {
     "data": {
      "text/plain": [
       "[0.0, 0.0, 0.0, 0.0, 0.0, 0.2732, 0.0, 0.0, 0.0772, 0.0]"
      ]
     },
     "execution_count": 4,
     "metadata": {},
     "output_type": "execute_result"
    }
   ],
   "source": [
    "# SA of Jon Snow for the entire season 1\n",
    "jon_snow_s1_sa = qry.get_my_character_by_season(season = \"season 1\", name = \"jon snow\")\n",
    "jon_snow_s1_sa[:10]"
   ]
  },
  {
   "cell_type": "code",
   "execution_count": 8,
   "id": "8283cd5c",
   "metadata": {},
   "outputs": [
    {
     "data": {
      "text/html": [
       "<div>\n",
       "<style scoped>\n",
       "    .dataframe tbody tr th:only-of-type {\n",
       "        vertical-align: middle;\n",
       "    }\n",
       "\n",
       "    .dataframe tbody tr th {\n",
       "        vertical-align: top;\n",
       "    }\n",
       "\n",
       "    .dataframe thead th {\n",
       "        text-align: right;\n",
       "    }\n",
       "</style>\n",
       "<table border=\"1\" class=\"dataframe\">\n",
       "  <thead>\n",
       "    <tr style=\"text-align: right;\">\n",
       "      <th></th>\n",
       "      <th>Season</th>\n",
       "      <th>compound</th>\n",
       "      <th>compound_mean</th>\n",
       "    </tr>\n",
       "  </thead>\n",
       "  <tbody>\n",
       "    <tr>\n",
       "      <th>0</th>\n",
       "      <td>Season 1</td>\n",
       "      <td>[0.0, 0.0, 0.0, 0.0, 0.0, 0.2732, 0.0, 0.0, 0....</td>\n",
       "      <td>0.003271</td>\n",
       "    </tr>\n",
       "    <tr>\n",
       "      <th>1</th>\n",
       "      <td>Season 2</td>\n",
       "      <td>[0.0, 0.0, 0.0, 0.0, 0.0, 0.0, 0.0, 0.0, 0.0, ...</td>\n",
       "      <td>-0.083663</td>\n",
       "    </tr>\n",
       "    <tr>\n",
       "      <th>2</th>\n",
       "      <td>Season 3</td>\n",
       "      <td>[0.0, 0.765, 0.0, 0.0, 0.0, 0.4215, 0.0, 0.0, ...</td>\n",
       "      <td>-0.011766</td>\n",
       "    </tr>\n",
       "    <tr>\n",
       "      <th>3</th>\n",
       "      <td>Season 4</td>\n",
       "      <td>[-0.1779, 0.25, -0.4767, 0.5773, -0.6908, -0.0...</td>\n",
       "      <td>-0.062016</td>\n",
       "    </tr>\n",
       "    <tr>\n",
       "      <th>4</th>\n",
       "      <td>Season 5</td>\n",
       "      <td>[0.0, 0.2235, 0.3612, 0.8096, 0.0, -0.296, 0.0...</td>\n",
       "      <td>0.065362</td>\n",
       "    </tr>\n",
       "    <tr>\n",
       "      <th>5</th>\n",
       "      <td>Season 6</td>\n",
       "      <td>[-0.4404, 0.0, -0.6597, -0.5106, -0.2057, 0.0,...</td>\n",
       "      <td>-0.015581</td>\n",
       "    </tr>\n",
       "    <tr>\n",
       "      <th>6</th>\n",
       "      <td>Season 7</td>\n",
       "      <td>[-0.4033, 0.0, -0.3612, -0.5267, 0.0, 0.0, 0.0...</td>\n",
       "      <td>-0.023019</td>\n",
       "    </tr>\n",
       "    <tr>\n",
       "      <th>7</th>\n",
       "      <td>Season 8</td>\n",
       "      <td>[-0.5862, 0.0, 0.0, 0.0, 0.0, -0.0258, -0.1511...</td>\n",
       "      <td>0.007756</td>\n",
       "    </tr>\n",
       "  </tbody>\n",
       "</table>\n",
       "</div>"
      ],
      "text/plain": [
       "     Season                                           compound  compound_mean\n",
       "0  Season 1  [0.0, 0.0, 0.0, 0.0, 0.0, 0.2732, 0.0, 0.0, 0....       0.003271\n",
       "1  Season 2  [0.0, 0.0, 0.0, 0.0, 0.0, 0.0, 0.0, 0.0, 0.0, ...      -0.083663\n",
       "2  Season 3  [0.0, 0.765, 0.0, 0.0, 0.0, 0.4215, 0.0, 0.0, ...      -0.011766\n",
       "3  Season 4  [-0.1779, 0.25, -0.4767, 0.5773, -0.6908, -0.0...      -0.062016\n",
       "4  Season 5  [0.0, 0.2235, 0.3612, 0.8096, 0.0, -0.296, 0.0...       0.065362\n",
       "5  Season 6  [-0.4404, 0.0, -0.6597, -0.5106, -0.2057, 0.0,...      -0.015581\n",
       "6  Season 7  [-0.4033, 0.0, -0.3612, -0.5267, 0.0, 0.0, 0.0...      -0.023019\n",
       "7  Season 8  [-0.5862, 0.0, 0.0, 0.0, 0.0, -0.0258, -0.1511...       0.007756"
      ]
     },
     "execution_count": 8,
     "metadata": {},
     "output_type": "execute_result"
    }
   ],
   "source": [
    "season_list = ['season 1', 'season 2', 'season 3', 'season 4', 'season 5', 'season 6', 'season 7', 'season 8']\n",
    "jon_snow = qry.get_my_character_by_seasons(seasons = season_list, name = \"jon snow\")\n",
    "jon_snow"
   ]
  },
  {
   "cell_type": "code",
   "execution_count": 9,
   "id": "f4078440",
   "metadata": {},
   "outputs": [
    {
     "data": {
      "text/html": [
       "<div>\n",
       "<style scoped>\n",
       "    .dataframe tbody tr th:only-of-type {\n",
       "        vertical-align: middle;\n",
       "    }\n",
       "\n",
       "    .dataframe tbody tr th {\n",
       "        vertical-align: top;\n",
       "    }\n",
       "\n",
       "    .dataframe thead th {\n",
       "        text-align: right;\n",
       "    }\n",
       "</style>\n",
       "<table border=\"1\" class=\"dataframe\">\n",
       "  <thead>\n",
       "    <tr style=\"text-align: right;\">\n",
       "      <th></th>\n",
       "      <th>Season</th>\n",
       "      <th>compound</th>\n",
       "      <th>compound_mean</th>\n",
       "    </tr>\n",
       "  </thead>\n",
       "  <tbody>\n",
       "    <tr>\n",
       "      <th>0</th>\n",
       "      <td>Season 1</td>\n",
       "      <td>[0.0, -0.296, -0.1139, 0.0, 0.3612, 0.3612, 0....</td>\n",
       "      <td>0.036445</td>\n",
       "    </tr>\n",
       "    <tr>\n",
       "      <th>1</th>\n",
       "      <td>Season 2</td>\n",
       "      <td>[0.0, 0.0, 0.4404, -0.7003, 0.0, 0.0258, -0.29...</td>\n",
       "      <td>-0.006541</td>\n",
       "    </tr>\n",
       "    <tr>\n",
       "      <th>2</th>\n",
       "      <td>Season 3</td>\n",
       "      <td>[0.0, 0.7964, 0.3612, 0.1611, 0.0, 0.1779, -0....</td>\n",
       "      <td>0.009112</td>\n",
       "    </tr>\n",
       "    <tr>\n",
       "      <th>3</th>\n",
       "      <td>Season 4</td>\n",
       "      <td>[0.0, 0.1431, 0.0, 0.0, 0.4019, 0.7003, -0.381...</td>\n",
       "      <td>0.120774</td>\n",
       "    </tr>\n",
       "    <tr>\n",
       "      <th>4</th>\n",
       "      <td>Season 5</td>\n",
       "      <td>[0.0, 0.5559, 0.0, -0.3582, 0.7269, -0.128, 0....</td>\n",
       "      <td>-0.045221</td>\n",
       "    </tr>\n",
       "    <tr>\n",
       "      <th>5</th>\n",
       "      <td>Season 6</td>\n",
       "      <td>[0.0, 0.6249, -0.296, 0.0, 0.0, 0.5106, 0.0, -...</td>\n",
       "      <td>0.023844</td>\n",
       "    </tr>\n",
       "    <tr>\n",
       "      <th>6</th>\n",
       "      <td>Season 7</td>\n",
       "      <td>[0.0, 0.4019, -0.2755, 0.4404, 0.0, -0.168, -0...</td>\n",
       "      <td>0.018515</td>\n",
       "    </tr>\n",
       "    <tr>\n",
       "      <th>7</th>\n",
       "      <td>Season 8</td>\n",
       "      <td>[0.8271, 0.0772, -0.2755, -0.3029, 0.0, 0.0, -...</td>\n",
       "      <td>0.020395</td>\n",
       "    </tr>\n",
       "  </tbody>\n",
       "</table>\n",
       "</div>"
      ],
      "text/plain": [
       "     Season                                           compound  compound_mean\n",
       "0  Season 1  [0.0, -0.296, -0.1139, 0.0, 0.3612, 0.3612, 0....       0.036445\n",
       "1  Season 2  [0.0, 0.0, 0.4404, -0.7003, 0.0, 0.0258, -0.29...      -0.006541\n",
       "2  Season 3  [0.0, 0.7964, 0.3612, 0.1611, 0.0, 0.1779, -0....       0.009112\n",
       "3  Season 4  [0.0, 0.1431, 0.0, 0.0, 0.4019, 0.7003, -0.381...       0.120774\n",
       "4  Season 5  [0.0, 0.5559, 0.0, -0.3582, 0.7269, -0.128, 0....      -0.045221\n",
       "5  Season 6  [0.0, 0.6249, -0.296, 0.0, 0.0, 0.5106, 0.0, -...       0.023844\n",
       "6  Season 7  [0.0, 0.4019, -0.2755, 0.4404, 0.0, -0.168, -0...       0.018515\n",
       "7  Season 8  [0.8271, 0.0772, -0.2755, -0.3029, 0.0, 0.0, -...       0.020395"
      ]
     },
     "execution_count": 9,
     "metadata": {},
     "output_type": "execute_result"
    }
   ],
   "source": [
    "daenerys = qry.get_my_character_by_seasons(seasons = season_list, name = \"daenerys targaryen\")\n",
    "daenerys"
   ]
  },
  {
   "cell_type": "code",
   "execution_count": 10,
   "id": "ef8e29e3",
   "metadata": {},
   "outputs": [
    {
     "data": {
      "text/html": [
       "<div>\n",
       "<style scoped>\n",
       "    .dataframe tbody tr th:only-of-type {\n",
       "        vertical-align: middle;\n",
       "    }\n",
       "\n",
       "    .dataframe tbody tr th {\n",
       "        vertical-align: top;\n",
       "    }\n",
       "\n",
       "    .dataframe thead th {\n",
       "        text-align: right;\n",
       "    }\n",
       "</style>\n",
       "<table border=\"1\" class=\"dataframe\">\n",
       "  <thead>\n",
       "    <tr style=\"text-align: right;\">\n",
       "      <th></th>\n",
       "      <th>Season</th>\n",
       "      <th>compound</th>\n",
       "      <th>compound_mean</th>\n",
       "    </tr>\n",
       "  </thead>\n",
       "  <tbody>\n",
       "    <tr>\n",
       "      <th>0</th>\n",
       "      <td>Season 1</td>\n",
       "      <td>[0.0, 0.0, 0.0, 0.0, 0.5255, 0.0, 0.0, 0.0, 0....</td>\n",
       "      <td>-0.052164</td>\n",
       "    </tr>\n",
       "    <tr>\n",
       "      <th>1</th>\n",
       "      <td>Season 2</td>\n",
       "      <td>[0.0772, 0.4767, 0.4404, 0.3875, 0.0, 0.0, -0....</td>\n",
       "      <td>-0.030662</td>\n",
       "    </tr>\n",
       "    <tr>\n",
       "      <th>2</th>\n",
       "      <td>Season 3</td>\n",
       "      <td>[0.3182, 0.0, 0.0, -0.2023, 0.0, 0.0, 0.3818, ...</td>\n",
       "      <td>-0.083530</td>\n",
       "    </tr>\n",
       "    <tr>\n",
       "      <th>3</th>\n",
       "      <td>Season 4</td>\n",
       "      <td>[0.0, -0.5106, 0.4567, -0.3559, -0.3071, -0.73...</td>\n",
       "      <td>-0.056762</td>\n",
       "    </tr>\n",
       "    <tr>\n",
       "      <th>4</th>\n",
       "      <td>Season 5</td>\n",
       "      <td>[0.0, 0.0, 0.3612, 0.0, 0.0, 0.0, 0.3182, 0.0,...</td>\n",
       "      <td>-0.025476</td>\n",
       "    </tr>\n",
       "    <tr>\n",
       "      <th>5</th>\n",
       "      <td>Season 6</td>\n",
       "      <td>[0.3612, 0.0, -0.296, -0.296, -0.296, 0.0, 0.0...</td>\n",
       "      <td>-0.067432</td>\n",
       "    </tr>\n",
       "    <tr>\n",
       "      <th>6</th>\n",
       "      <td>Season 7</td>\n",
       "      <td>[0.0, 0.4939, 0.3412, 0.0, 0.4708, 0.0, -0.296...</td>\n",
       "      <td>-0.004385</td>\n",
       "    </tr>\n",
       "    <tr>\n",
       "      <th>7</th>\n",
       "      <td>Season 8</td>\n",
       "      <td>[0.0, 0.0, 0.0, 0.0, 0.0, 0.0, -0.2755, 0.6124...</td>\n",
       "      <td>-0.045899</td>\n",
       "    </tr>\n",
       "  </tbody>\n",
       "</table>\n",
       "</div>"
      ],
      "text/plain": [
       "     Season                                           compound  compound_mean\n",
       "0  Season 1  [0.0, 0.0, 0.0, 0.0, 0.5255, 0.0, 0.0, 0.0, 0....      -0.052164\n",
       "1  Season 2  [0.0772, 0.4767, 0.4404, 0.3875, 0.0, 0.0, -0....      -0.030662\n",
       "2  Season 3  [0.3182, 0.0, 0.0, -0.2023, 0.0, 0.0, 0.3818, ...      -0.083530\n",
       "3  Season 4  [0.0, -0.5106, 0.4567, -0.3559, -0.3071, -0.73...      -0.056762\n",
       "4  Season 5  [0.0, 0.0, 0.3612, 0.0, 0.0, 0.0, 0.3182, 0.0,...      -0.025476\n",
       "5  Season 6  [0.3612, 0.0, -0.296, -0.296, -0.296, 0.0, 0.0...      -0.067432\n",
       "6  Season 7  [0.0, 0.4939, 0.3412, 0.0, 0.4708, 0.0, -0.296...      -0.004385\n",
       "7  Season 8  [0.0, 0.0, 0.0, 0.0, 0.0, 0.0, -0.2755, 0.6124...      -0.045899"
      ]
     },
     "execution_count": 10,
     "metadata": {},
     "output_type": "execute_result"
    }
   ],
   "source": [
    "arya = qry.get_my_character_by_seasons(seasons = season_list, name = \"arya stark\")\n",
    "arya"
   ]
  },
  {
   "cell_type": "code",
   "execution_count": null,
   "id": "f0c9cc91",
   "metadata": {},
   "outputs": [],
   "source": []
  },
  {
   "cell_type": "markdown",
   "id": "1c8ebb31",
   "metadata": {},
   "source": [
    "# Requests | POST"
   ]
  },
  {
   "cell_type": "code",
   "execution_count": null,
   "id": "4df0bae1",
   "metadata": {},
   "outputs": [],
   "source": [
    "# Data to be send to API\n",
    "params = {'ID':'23911',\n",
    "        'Release Date':'2022-11-12',\n",
    "        'Season':'Season 8',\n",
    "        'Episode':'Episode 6',\n",
    "        'Episode Title':'The Iron Throne',\n",
    "        'Name': 'Marc Planas',\n",
    "        'Sentence':'Really?'}\n",
    "\n",
    "url = \"http://127.0.0.1:5000\"\n",
    "endpoint = \"/insertrow\"\n",
    "\n",
    "# Sending post request\n",
    "# r = requests.post(url = url + endpoint, params = params)\n",
    "# r"
   ]
  },
  {
   "attachments": {
    "image.png": {
     "image/png": "[encoded data removed]"
    }
   },
   "cell_type": "markdown",
   "id": "35cef92b",
   "metadata": {},
   "source": [
    "![image.png](attachment:image.png)"
   ]
  }
 ],
 "metadata": {
  "kernelspec": {
   "display_name": "Python 3 (ipykernel)",
   "language": "python",
   "name": "python3"
  },
  "language_info": {
   "codemirror_mode": {
    "name": "ipython",
    "version": 3
   },
   "file_extension": ".py",
   "mimetype": "text/x-python",
   "name": "python",
   "nbconvert_exporter": "python",
   "pygments_lexer": "ipython3",
   "version": "3.9.13"
  },
  "toc": {
   "base_numbering": 1,
   "nav_menu": {},
   "number_sections": true,
   "sideBar": true,
   "skip_h1_title": false,
   "title_cell": "Table of Contents",
   "title_sidebar": "Contents",
   "toc_cell": false,
   "toc_position": {},
   "toc_section_display": true,
   "toc_window_display": false
  }
 },
 "nbformat": 4,
 "nbformat_minor": 5
}
