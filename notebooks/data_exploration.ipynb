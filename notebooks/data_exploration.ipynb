{
 "cells": [
  {
   "cell_type": "markdown",
   "id": "29e2f633",
   "metadata": {},
   "source": [
    "**Ironhack Project-4 |** Data exploration\n",
    "\n",
    "---"
   ]
  },
  {
   "cell_type": "markdown",
   "id": "c92a473c",
   "metadata": {},
   "source": [
    "**Libraries**"
   ]
  },
  {
   "cell_type": "code",
   "execution_count": 19,
   "id": "3c0e7ff9",
   "metadata": {},
   "outputs": [
    {
     "name": "stderr",
     "output_type": "stream",
     "text": [
      "[nltk_data] Downloading package wordnet to\n",
      "[nltk_data]     C:\\Users\\mplan\\AppData\\Roaming\\nltk_data...\n",
      "[nltk_data]   Package wordnet is already up-to-date!\n",
      "[nltk_data] Downloading package omw-1.4 to\n",
      "[nltk_data]     C:\\Users\\mplan\\AppData\\Roaming\\nltk_data...\n",
      "[nltk_data]   Package omw-1.4 is already up-to-date!\n",
      "[nltk_data] Downloading package vader_lexicon to\n",
      "[nltk_data]     C:\\Users\\mplan\\AppData\\Roaming\\nltk_data...\n",
      "[nltk_data]   Package vader_lexicon is already up-to-date!\n",
      "[nltk_data] Downloading package stopwords to\n",
      "[nltk_data]     C:\\Users\\mplan\\AppData\\Roaming\\nltk_data...\n",
      "[nltk_data]   Package stopwords is already up-to-date!\n",
      "[nltk_data] Downloading package punkt to\n",
      "[nltk_data]     C:\\Users\\mplan\\AppData\\Roaming\\nltk_data...\n",
      "[nltk_data]   Package punkt is already up-to-date!\n"
     ]
    }
   ],
   "source": [
    "# Data\n",
    "import numpy as np\n",
    "import pandas as pd\n",
    "\n",
    "# SQL\n",
    "import mysql.connector as msql\n",
    "import sqlalchemy as alch\n",
    "from getpass import getpass\n",
    "\n",
    "# NLP\n",
    "import nltk\n",
    "import spacy\n",
    "\n",
    "from nltk.tokenize import word_tokenize\n",
    "from nltk.corpus import stopwords\n",
    "from nltk.sentiment.vader import SentimentIntensityAnalyzer\n",
    "from nltk.stem import PorterStemmer\n",
    "from nltk.stem import LancasterStemmer\n",
    "from nltk import WordNetLemmatizer\n",
    "from sklearn.feature_extraction.text import CountVectorizer\n",
    "from sklearn.feature_extraction.text import TfidfVectorizer\n",
    "\n",
    "import stylecloud\n",
    "\n",
    "nltk.download('wordnet')\n",
    "nltk.download('omw-1.4')\n",
    "nltk.download('vader_lexicon')\n",
    "nltk.download('stopwords')\n",
    "nltk.download('punkt')\n",
    "\n",
    "# Visualization\n",
    "import seaborn as sns\n",
    "import matplotlib.pyplot as plt\n",
    "%matplotlib inline\n",
    "%config Inlinebackend.figure_format = 'retina'\n",
    "sns.set_context(\"poster\")\n",
    "sns.set(rc={\"figure.figsize\": (8,4)})\n",
    "sns.set_style(\"whitegrid\")"
   ]
  },
  {
   "cell_type": "markdown",
   "id": "4113f746",
   "metadata": {},
   "source": [
    "---"
   ]
  },
  {
   "cell_type": "markdown",
   "id": "0275218f",
   "metadata": {},
   "source": [
    "**Data import**"
   ]
  },
  {
   "cell_type": "code",
   "execution_count": 20,
   "id": "c041c73d",
   "metadata": {},
   "outputs": [
    {
     "data": {
      "text/html": [
       "<div>\n",
       "<style scoped>\n",
       "    .dataframe tbody tr th:only-of-type {\n",
       "        vertical-align: middle;\n",
       "    }\n",
       "\n",
       "    .dataframe tbody tr th {\n",
       "        vertical-align: top;\n",
       "    }\n",
       "\n",
       "    .dataframe thead th {\n",
       "        text-align: right;\n",
       "    }\n",
       "</style>\n",
       "<table border=\"1\" class=\"dataframe\">\n",
       "  <thead>\n",
       "    <tr style=\"text-align: right;\">\n",
       "      <th></th>\n",
       "      <th>Release Date</th>\n",
       "      <th>Season</th>\n",
       "      <th>Episode</th>\n",
       "      <th>Episode Title</th>\n",
       "      <th>Name</th>\n",
       "      <th>Sentence</th>\n",
       "    </tr>\n",
       "  </thead>\n",
       "  <tbody>\n",
       "    <tr>\n",
       "      <th>0</th>\n",
       "      <td>2011-04-17</td>\n",
       "      <td>Season 1</td>\n",
       "      <td>Episode 1</td>\n",
       "      <td>Winter is Coming</td>\n",
       "      <td>waymar royce</td>\n",
       "      <td>What do you expect? They're savages. One lot s...</td>\n",
       "    </tr>\n",
       "    <tr>\n",
       "      <th>1</th>\n",
       "      <td>2011-04-17</td>\n",
       "      <td>Season 1</td>\n",
       "      <td>Episode 1</td>\n",
       "      <td>Winter is Coming</td>\n",
       "      <td>will</td>\n",
       "      <td>I've never seen wildlings do a thing like this...</td>\n",
       "    </tr>\n",
       "    <tr>\n",
       "      <th>2</th>\n",
       "      <td>2011-04-17</td>\n",
       "      <td>Season 1</td>\n",
       "      <td>Episode 1</td>\n",
       "      <td>Winter is Coming</td>\n",
       "      <td>waymar royce</td>\n",
       "      <td>How close did you get?</td>\n",
       "    </tr>\n",
       "    <tr>\n",
       "      <th>3</th>\n",
       "      <td>2011-04-17</td>\n",
       "      <td>Season 1</td>\n",
       "      <td>Episode 1</td>\n",
       "      <td>Winter is Coming</td>\n",
       "      <td>will</td>\n",
       "      <td>Close as any man would.</td>\n",
       "    </tr>\n",
       "    <tr>\n",
       "      <th>4</th>\n",
       "      <td>2011-04-17</td>\n",
       "      <td>Season 1</td>\n",
       "      <td>Episode 1</td>\n",
       "      <td>Winter is Coming</td>\n",
       "      <td>gared</td>\n",
       "      <td>We should head back to the wall.</td>\n",
       "    </tr>\n",
       "  </tbody>\n",
       "</table>\n",
       "</div>"
      ],
      "text/plain": [
       "  Release Date    Season    Episode     Episode Title          Name  \\\n",
       "0   2011-04-17  Season 1  Episode 1  Winter is Coming  waymar royce   \n",
       "1   2011-04-17  Season 1  Episode 1  Winter is Coming          will   \n",
       "2   2011-04-17  Season 1  Episode 1  Winter is Coming  waymar royce   \n",
       "3   2011-04-17  Season 1  Episode 1  Winter is Coming          will   \n",
       "4   2011-04-17  Season 1  Episode 1  Winter is Coming         gared   \n",
       "\n",
       "                                            Sentence  \n",
       "0  What do you expect? They're savages. One lot s...  \n",
       "1  I've never seen wildlings do a thing like this...  \n",
       "2                             How close did you get?  \n",
       "3                            Close as any man would.  \n",
       "4                   We should head back to the wall.  "
      ]
     },
     "execution_count": 20,
     "metadata": {},
     "output_type": "execute_result"
    }
   ],
   "source": [
    "# Importing data\n",
    "got_script = pd.read_csv(\"../data/game_of_thrones_script.csv\")\n",
    "got_script.head()"
   ]
  },
  {
   "cell_type": "code",
   "execution_count": 24,
   "id": "9bd0f0ad",
   "metadata": {},
   "outputs": [
    {
     "name": "stdout",
     "output_type": "stream",
     "text": [
      "<class 'pandas.core.frame.DataFrame'>\n",
      "Int64Index: 23908 entries, 0 to 23910\n",
      "Data columns (total 6 columns):\n",
      " #   Column         Non-Null Count  Dtype \n",
      "---  ------         --------------  ----- \n",
      " 0   Release Date   23908 non-null  object\n",
      " 1   Season         23908 non-null  object\n",
      " 2   Episode        23908 non-null  object\n",
      " 3   Episode Title  23908 non-null  object\n",
      " 4   Name           23908 non-null  object\n",
      " 5   Sentence       23908 non-null  object\n",
      "dtypes: object(6)\n",
      "memory usage: 1.3+ MB\n"
     ]
    }
   ],
   "source": [
    "# Looking at data type of info and nan\n",
    "got_script.info()\n",
    "got_script.dropna(inplace = True)"
   ]
  },
  {
   "cell_type": "code",
   "execution_count": 25,
   "id": "1accaedf",
   "metadata": {},
   "outputs": [],
   "source": [
    "got_script['Name'] = got_script['Name'].str.title()"
   ]
  },
  {
   "cell_type": "code",
   "execution_count": 26,
   "id": "f1bc3569",
   "metadata": {},
   "outputs": [
    {
     "data": {
      "image/png": "[encoded data removed]",
      "text/plain": [
       "<Figure size 800x400 with 1 Axes>"
      ]
     },
     "metadata": {},
     "output_type": "display_data"
    }
   ],
   "source": [
    "# Visualizing the top 10 characters with more lines in the whole series\n",
    "got_script.groupby(['Name']).size().sort_values(ascending=False)[:20].plot.bar(\n",
    "    title = \"Top 20 characters with more lines\",\n",
    "    xlabel = \"Character\",\n",
    "    ylabel = \"Nº of sentences/lines\");"
   ]
  },
  {
   "cell_type": "code",
   "execution_count": 28,
   "id": "b1bfd0d3",
   "metadata": {},
   "outputs": [],
   "source": [
    "# Export\n",
    "got_script.to_csv(\"../data/got_script.csv\")"
   ]
  },
  {
   "cell_type": "markdown",
   "id": "ec14ce8f",
   "metadata": {},
   "source": [
    "---"
   ]
  },
  {
   "cell_type": "code",
   "execution_count": null,
   "id": "96796840",
   "metadata": {},
   "outputs": [],
   "source": []
  },
  {
   "cell_type": "code",
   "execution_count": null,
   "id": "a87a728b",
   "metadata": {},
   "outputs": [],
   "source": []
  },
  {
   "cell_type": "code",
   "execution_count": null,
   "id": "53b656c5",
   "metadata": {},
   "outputs": [],
   "source": []
  },
  {
   "cell_type": "code",
   "execution_count": null,
   "id": "c0b3d40d",
   "metadata": {},
   "outputs": [],
   "source": []
  },
  {
   "cell_type": "code",
   "execution_count": null,
   "id": "71868155",
   "metadata": {},
   "outputs": [],
   "source": []
  },
  {
   "cell_type": "code",
   "execution_count": null,
   "id": "97a45fad",
   "metadata": {},
   "outputs": [],
   "source": []
  },
  {
   "cell_type": "code",
   "execution_count": null,
   "id": "4a271eb2",
   "metadata": {},
   "outputs": [],
   "source": []
  },
  {
   "cell_type": "code",
   "execution_count": null,
   "id": "de78cd1d",
   "metadata": {},
   "outputs": [],
   "source": []
  },
  {
   "cell_type": "code",
   "execution_count": 29,
   "id": "eb0a17ff",
   "metadata": {
    "scrolled": false
   },
   "outputs": [
    {
     "data": {
      "text/html": [
       "<div>\n",
       "<style scoped>\n",
       "    .dataframe tbody tr th:only-of-type {\n",
       "        vertical-align: middle;\n",
       "    }\n",
       "\n",
       "    .dataframe tbody tr th {\n",
       "        vertical-align: top;\n",
       "    }\n",
       "\n",
       "    .dataframe thead th {\n",
       "        text-align: right;\n",
       "    }\n",
       "</style>\n",
       "<table border=\"1\" class=\"dataframe\">\n",
       "  <thead>\n",
       "    <tr style=\"text-align: right;\">\n",
       "      <th></th>\n",
       "      <th>Release Date</th>\n",
       "      <th>Season</th>\n",
       "      <th>Episode</th>\n",
       "      <th>Episode Title</th>\n",
       "      <th>Name</th>\n",
       "      <th>Sentence</th>\n",
       "      <th>neg</th>\n",
       "      <th>neu</th>\n",
       "      <th>pos</th>\n",
       "      <th>compound</th>\n",
       "    </tr>\n",
       "  </thead>\n",
       "  <tbody>\n",
       "    <tr>\n",
       "      <th>0</th>\n",
       "      <td>2011-04-17</td>\n",
       "      <td>Season 1</td>\n",
       "      <td>Episode 1</td>\n",
       "      <td>Winter is Coming</td>\n",
       "      <td>Waymar Royce</td>\n",
       "      <td>What do you expect? They're savages. One lot s...</td>\n",
       "      <td>0.233</td>\n",
       "      <td>0.767</td>\n",
       "      <td>0.000</td>\n",
       "      <td>-0.7717</td>\n",
       "    </tr>\n",
       "    <tr>\n",
       "      <th>1</th>\n",
       "      <td>2011-04-17</td>\n",
       "      <td>Season 1</td>\n",
       "      <td>Episode 1</td>\n",
       "      <td>Winter is Coming</td>\n",
       "      <td>Will</td>\n",
       "      <td>I've never seen wildlings do a thing like this...</td>\n",
       "      <td>0.000</td>\n",
       "      <td>0.773</td>\n",
       "      <td>0.227</td>\n",
       "      <td>0.6124</td>\n",
       "    </tr>\n",
       "    <tr>\n",
       "      <th>2</th>\n",
       "      <td>2011-04-17</td>\n",
       "      <td>Season 1</td>\n",
       "      <td>Episode 1</td>\n",
       "      <td>Winter is Coming</td>\n",
       "      <td>Waymar Royce</td>\n",
       "      <td>How close did you get?</td>\n",
       "      <td>0.000</td>\n",
       "      <td>1.000</td>\n",
       "      <td>0.000</td>\n",
       "      <td>0.0000</td>\n",
       "    </tr>\n",
       "    <tr>\n",
       "      <th>3</th>\n",
       "      <td>2011-04-17</td>\n",
       "      <td>Season 1</td>\n",
       "      <td>Episode 1</td>\n",
       "      <td>Winter is Coming</td>\n",
       "      <td>Will</td>\n",
       "      <td>Close as any man would.</td>\n",
       "      <td>0.000</td>\n",
       "      <td>1.000</td>\n",
       "      <td>0.000</td>\n",
       "      <td>0.0000</td>\n",
       "    </tr>\n",
       "    <tr>\n",
       "      <th>4</th>\n",
       "      <td>2011-04-17</td>\n",
       "      <td>Season 1</td>\n",
       "      <td>Episode 1</td>\n",
       "      <td>Winter is Coming</td>\n",
       "      <td>Gared</td>\n",
       "      <td>We should head back to the wall.</td>\n",
       "      <td>0.000</td>\n",
       "      <td>1.000</td>\n",
       "      <td>0.000</td>\n",
       "      <td>0.0000</td>\n",
       "    </tr>\n",
       "    <tr>\n",
       "      <th>...</th>\n",
       "      <td>...</td>\n",
       "      <td>...</td>\n",
       "      <td>...</td>\n",
       "      <td>...</td>\n",
       "      <td>...</td>\n",
       "      <td>...</td>\n",
       "      <td>...</td>\n",
       "      <td>...</td>\n",
       "      <td>...</td>\n",
       "      <td>...</td>\n",
       "    </tr>\n",
       "    <tr>\n",
       "      <th>23906</th>\n",
       "      <td>2019-05-19</td>\n",
       "      <td>Season 8</td>\n",
       "      <td>Episode 6</td>\n",
       "      <td>The Iron Throne</td>\n",
       "      <td>Brienne</td>\n",
       "      <td>I think we can all agree that ships take prece...</td>\n",
       "      <td>0.000</td>\n",
       "      <td>0.800</td>\n",
       "      <td>0.200</td>\n",
       "      <td>0.3612</td>\n",
       "    </tr>\n",
       "    <tr>\n",
       "      <th>23907</th>\n",
       "      <td>2019-05-19</td>\n",
       "      <td>Season 8</td>\n",
       "      <td>Episode 6</td>\n",
       "      <td>The Iron Throne</td>\n",
       "      <td>Bronn</td>\n",
       "      <td>I think that's a very presumptuous statement.</td>\n",
       "      <td>0.000</td>\n",
       "      <td>1.000</td>\n",
       "      <td>0.000</td>\n",
       "      <td>0.0000</td>\n",
       "    </tr>\n",
       "    <tr>\n",
       "      <th>23908</th>\n",
       "      <td>2019-05-19</td>\n",
       "      <td>Season 8</td>\n",
       "      <td>Episode 6</td>\n",
       "      <td>The Iron Throne</td>\n",
       "      <td>Tyrion Lannister</td>\n",
       "      <td>I once brought a jackass and a honeycomb into ...</td>\n",
       "      <td>0.318</td>\n",
       "      <td>0.682</td>\n",
       "      <td>0.000</td>\n",
       "      <td>-0.4215</td>\n",
       "    </tr>\n",
       "    <tr>\n",
       "      <th>23909</th>\n",
       "      <td>2019-05-19</td>\n",
       "      <td>Season 8</td>\n",
       "      <td>Episode 6</td>\n",
       "      <td>The Iron Throne</td>\n",
       "      <td>Man</td>\n",
       "      <td>The Queen in the North!</td>\n",
       "      <td>0.000</td>\n",
       "      <td>1.000</td>\n",
       "      <td>0.000</td>\n",
       "      <td>0.0000</td>\n",
       "    </tr>\n",
       "    <tr>\n",
       "      <th>23910</th>\n",
       "      <td>2019-05-19</td>\n",
       "      <td>Season 8</td>\n",
       "      <td>Episode 6</td>\n",
       "      <td>The Iron Throne</td>\n",
       "      <td>All</td>\n",
       "      <td>The Queen in the North! The Queen in the North...</td>\n",
       "      <td>0.000</td>\n",
       "      <td>1.000</td>\n",
       "      <td>0.000</td>\n",
       "      <td>0.0000</td>\n",
       "    </tr>\n",
       "  </tbody>\n",
       "</table>\n",
       "<p>23908 rows × 10 columns</p>\n",
       "</div>"
      ],
      "text/plain": [
       "      Release Date    Season    Episode     Episode Title              Name  \\\n",
       "0       2011-04-17  Season 1  Episode 1  Winter is Coming      Waymar Royce   \n",
       "1       2011-04-17  Season 1  Episode 1  Winter is Coming              Will   \n",
       "2       2011-04-17  Season 1  Episode 1  Winter is Coming      Waymar Royce   \n",
       "3       2011-04-17  Season 1  Episode 1  Winter is Coming              Will   \n",
       "4       2011-04-17  Season 1  Episode 1  Winter is Coming             Gared   \n",
       "...            ...       ...        ...               ...               ...   \n",
       "23906   2019-05-19  Season 8  Episode 6   The Iron Throne           Brienne   \n",
       "23907   2019-05-19  Season 8  Episode 6   The Iron Throne             Bronn   \n",
       "23908   2019-05-19  Season 8  Episode 6   The Iron Throne  Tyrion Lannister   \n",
       "23909   2019-05-19  Season 8  Episode 6   The Iron Throne               Man   \n",
       "23910   2019-05-19  Season 8  Episode 6   The Iron Throne               All   \n",
       "\n",
       "                                                Sentence    neg    neu    pos  \\\n",
       "0      What do you expect? They're savages. One lot s...  0.233  0.767  0.000   \n",
       "1      I've never seen wildlings do a thing like this...  0.000  0.773  0.227   \n",
       "2                                 How close did you get?  0.000  1.000  0.000   \n",
       "3                                Close as any man would.  0.000  1.000  0.000   \n",
       "4                       We should head back to the wall.  0.000  1.000  0.000   \n",
       "...                                                  ...    ...    ...    ...   \n",
       "23906  I think we can all agree that ships take prece...  0.000  0.800  0.200   \n",
       "23907      I think that's a very presumptuous statement.  0.000  1.000  0.000   \n",
       "23908  I once brought a jackass and a honeycomb into ...  0.318  0.682  0.000   \n",
       "23909                            The Queen in the North!  0.000  1.000  0.000   \n",
       "23910  The Queen in the North! The Queen in the North...  0.000  1.000  0.000   \n",
       "\n",
       "       compound  \n",
       "0       -0.7717  \n",
       "1        0.6124  \n",
       "2        0.0000  \n",
       "3        0.0000  \n",
       "4        0.0000  \n",
       "...         ...  \n",
       "23906    0.3612  \n",
       "23907    0.0000  \n",
       "23908   -0.4215  \n",
       "23909    0.0000  \n",
       "23910    0.0000  \n",
       "\n",
       "[23908 rows x 10 columns]"
      ]
     },
     "execution_count": 29,
     "metadata": {},
     "output_type": "execute_result"
    }
   ],
   "source": [
    "# Calculating sentiment score \n",
    "sid = SentimentIntensityAnalyzer()\n",
    "got_script[['neg', 'neu', 'pos', 'compound']] = got_script['Sentence'].apply(sid.polarity_scores).apply(pd.Series)\n",
    "got_script"
   ]
  },
  {
   "cell_type": "code",
   "execution_count": 30,
   "id": "a14c370d",
   "metadata": {},
   "outputs": [
    {
     "data": {
      "text/plain": [
       "Season    Episode  \n",
       "Season 7  Episode 7   -0.066983\n",
       "Season 4  Episode 8   -0.053705\n",
       "Season 6  Episode 7   -0.042842\n",
       "          Episode 9   -0.037350\n",
       "Season 3  Episode 4   -0.037013\n",
       "                         ...   \n",
       "Season 5  Episode 7    0.049236\n",
       "Season 8  Episode 4    0.050529\n",
       "Season 6  Episode 3    0.052869\n",
       "          Episode 5    0.063241\n",
       "Season 5  Episode 9    0.066596\n",
       "Name: compound, Length: 73, dtype: float64"
      ]
     },
     "execution_count": 30,
     "metadata": {},
     "output_type": "execute_result"
    }
   ],
   "source": [
    "got_script.groupby(['Season', 'Episode'])['compound'].mean().sort_values()"
   ]
  },
  {
   "cell_type": "code",
   "execution_count": null,
   "id": "954784ca",
   "metadata": {},
   "outputs": [],
   "source": [
    "# Most negative\n",
    "filter_s = got_script['Season'] == 'Season 7'\n",
    "filter_ep = got_script['Episode'] == 'Episode 7'\n",
    "got_script[filter_s & filter_ep].plot(y='compound', use_index=True);"
   ]
  },
  {
   "cell_type": "code",
   "execution_count": null,
   "id": "13a17584",
   "metadata": {},
   "outputs": [],
   "source": [
    "# Most positive\n",
    "filter_s = got_script['Season'] == 'Season 5'\n",
    "filter_ep = got_script['Episode'] == 'Episode 9'\n",
    "got_script[filter_s & filter_ep].plot(y='compound', use_index=True);"
   ]
  },
  {
   "cell_type": "code",
   "execution_count": null,
   "id": "b75f56e4",
   "metadata": {},
   "outputs": [],
   "source": [
    "# Red wedding\n",
    "filter_s = got_script['Season'] == 'Season 3'\n",
    "filter_ep = got_script['Episode'] == 'Episode 9'\n",
    "got_script[filter_s & filter_ep].plot(y='compound', use_index=True);"
   ]
  },
  {
   "cell_type": "code",
   "execution_count": null,
   "id": "99c82ee6",
   "metadata": {},
   "outputs": [],
   "source": [
    "# Ramsay tortures Theon\n",
    "filter_s = got_script['Season'] == 'Season 3'\n",
    "filter_ep = got_script['Episode'] == 'Episode 7'\n",
    "got_script[filter_s & filter_ep].plot(y='compound', use_index=True);"
   ]
  },
  {
   "cell_type": "code",
   "execution_count": null,
   "id": "498e3597",
   "metadata": {},
   "outputs": [],
   "source": [
    "got_script[got_script['Name'] == 'petyr baelish'].plot(y='compound', use_index=True);"
   ]
  },
  {
   "cell_type": "code",
   "execution_count": null,
   "id": "6bb0ac8c",
   "metadata": {},
   "outputs": [],
   "source": [
    "# Filtering out non-top characters\n",
    "got_top = got_script.groupby(['Name']).size().sort_values(ascending=False)[:20]\n",
    "got_top_characters = got_top.index.values\n",
    "got_top_sentiment = got_script[got_script['Name'].isin(got_top_characters)]"
   ]
  },
  {
   "cell_type": "code",
   "execution_count": null,
   "id": "6ff96074",
   "metadata": {},
   "outputs": [],
   "source": [
    "# Calculating sentiment score\n",
    "sid = SentimentIntensityAnalyzer()\n",
    "got_top_sentiment[['neg', 'neu', 'pos', 'compound']] = got_top_sentiment['Sentence'].apply(sid.polarity_scores).apply(pd.Series)\n",
    "got_top_sentiment"
   ]
  },
  {
   "cell_type": "code",
   "execution_count": null,
   "id": "d22df2e4",
   "metadata": {},
   "outputs": [],
   "source": [
    "got_top_sentiment.groupby('Name')['compound'].mean().sort_values()"
   ]
  },
  {
   "cell_type": "code",
   "execution_count": null,
   "id": "fe6412a1",
   "metadata": {},
   "outputs": [],
   "source": [
    "# Set of stop words\n",
    "stop_words = set(stopwords.words('english'))\n",
    "\n",
    "# Tokenize words of each sentence\n",
    "word_tokens = word_tokenize(got_script.iloc[0]['Sentence'])\n",
    "\n",
    "# Get words not present in stop words set\n",
    "filtered_sentence = [w for w in word_tokens if not w.lower() in stop_words]\n",
    "\n",
    "# Remove symbols\n",
    "symbols = ['?', '!', ',', '.']\n",
    "filtered_sentence = [w for w in filtered_sentence if not w.lower() in symbols]\n",
    "\n",
    "print(word_tokens)\n",
    "print(filtered_sentence)"
   ]
  },
  {
   "cell_type": "code",
   "execution_count": null,
   "id": "681f209e",
   "metadata": {},
   "outputs": [],
   "source": [
    "def filter_stopwords (sentence):\n",
    "    \n",
    "    # Set of stop words\n",
    "    stop_words = set(stopwords.words('english'))\n",
    "\n",
    "    # Tokenize words of each sentence\n",
    "    word_tokens = word_tokenize(sentence)\n",
    "\n",
    "    # Get words not present in stop words set\n",
    "    filtered_sentence = [w for w in word_tokens if not w.lower() in stop_words]\n",
    "\n",
    "    # Remove symbols\n",
    "    symbols = ['?', '!', ',', '.']\n",
    "    filtered_sentence = [w for w in filtered_sentence if not w.lower() in symbols]\n",
    "\n",
    "    return \" \".join(filtered_sentence)"
   ]
  },
  {
   "cell_type": "code",
   "execution_count": null,
   "id": "21b51db5",
   "metadata": {},
   "outputs": [],
   "source": [
    "got_script['Sentence'] = got_script['Sentence'].apply(lambda x: filter_stopwords(x))\n",
    "got_script"
   ]
  },
  {
   "cell_type": "code",
   "execution_count": null,
   "id": "5110c5b3",
   "metadata": {},
   "outputs": [],
   "source": [
    "got_script[['neg2', 'neu2', 'pos2', 'compound2']] = got_script['Sentence'].apply(sid.polarity_scores).apply(pd.Series)\n",
    "got_script"
   ]
  },
  {
   "cell_type": "code",
   "execution_count": null,
   "id": "a181d552",
   "metadata": {},
   "outputs": [],
   "source": [
    "got_script.groupby(['Season', 'Episode'])['compound2'].mean().sort_values()"
   ]
  },
  {
   "cell_type": "code",
   "execution_count": null,
   "id": "34f0982d",
   "metadata": {},
   "outputs": [],
   "source": [
    "# Most negative\n",
    "filter_s = got_script['Season'] == 'Season 4'\n",
    "filter_ep = got_script['Episode'] == 'Episode 8'\n",
    "got_script[filter_s & filter_ep].plot(y='compound', use_index=True);"
   ]
  },
  {
   "cell_type": "code",
   "execution_count": null,
   "id": "29f39cd1",
   "metadata": {},
   "outputs": [],
   "source": [
    "got_script.iloc[13550:13600]"
   ]
  },
  {
   "cell_type": "code",
   "execution_count": null,
   "id": "9204c990",
   "metadata": {},
   "outputs": [],
   "source": [
    "nlp = spacy.load(\"en_core_web_sm\")"
   ]
  }
 ],
 "metadata": {
  "kernelspec": {
   "display_name": "Python 3 (ipykernel)",
   "language": "python",
   "name": "python3"
  },
  "language_info": {
   "codemirror_mode": {
    "name": "ipython",
    "version": 3
   },
   "file_extension": ".py",
   "mimetype": "text/x-python",
   "name": "python",
   "nbconvert_exporter": "python",
   "pygments_lexer": "ipython3",
   "version": "3.9.13"
  },
  "toc": {
   "base_numbering": 1,
   "nav_menu": {},
   "number_sections": true,
   "sideBar": true,
   "skip_h1_title": false,
   "title_cell": "Table of Contents",
   "title_sidebar": "Contents",
   "toc_cell": false,
   "toc_position": {},
   "toc_section_display": true,
   "toc_window_display": false
  }
 },
 "nbformat": 4,
 "nbformat_minor": 5
}
